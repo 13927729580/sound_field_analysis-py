{
 "cells": [
  {
   "cell_type": "markdown",
   "metadata": {},
   "source": [
    "# sofia-py example 2\n",
    "## Sampled unity plane wave simulation for different kr\n",
    "\n",
    "Generate a full audio spectrum plane wave using the S/W/G module"
   ]
  },
  {
   "cell_type": "code",
   "execution_count": null,
   "metadata": {
    "collapsed": false
   },
   "outputs": [],
   "source": [
    "import numpy as np\n",
    "import sys\n",
    "sys.path.insert(0, '../')\n",
    "from sound_field_analysis import gen, process, plot\n",
    "\n",
    "from plotly.offline import download_plotlyjs, init_notebook_mode\n",
    "init_notebook_mode(connected=True)"
   ]
  },
  {
   "cell_type": "markdown",
   "metadata": {},
   "source": [
    "### Setup"
   ]
  },
  {
   "cell_type": "code",
   "execution_count": null,
   "metadata": {
    "collapsed": true
   },
   "outputs": [],
   "source": [
    "pi = np.pi\n",
    "r = 0.1      # Array radius\n",
    "ac = 0       # Rigid Sphere\n",
    "FS = 48000   # Sampling Frequency\n",
    "NFFT = 128   # FFT-Bin\n",
    "AZ = 0       # Azimuth angle\n",
    "EL = pi / 2  # Elevation angle\n",
    "Nsft = 5     # Transform order\n",
    "Nrf = Nsft   # Radial filter order\n",
    "Nviz = Nsft  # Visualization order\n",
    "krIDX = [15, 23, 29, 39]  # kr-bin for subfigures"
   ]
  },
  {
   "cell_type": "markdown",
   "metadata": {},
   "source": [
    "## Generate quadrature grid and weights"
   ]
  },
  {
   "cell_type": "code",
   "execution_count": null,
   "metadata": {
    "collapsed": false
   },
   "outputs": [],
   "source": [
    "quadrature_grid, _ = gen.lebedev(110)"
   ]
  },
  {
   "cell_type": "code",
   "execution_count": null,
   "metadata": {
    "collapsed": false
   },
   "outputs": [],
   "source": [
    "fftData, kr = gen.swg(r=r, gridData=quadrature_grid, ac=ac, FS=FS, NFFT=NFFT, AZ=AZ, EL=EL)"
   ]
  },
  {
   "cell_type": "markdown",
   "metadata": {},
   "source": [
    "## Spatial Fourier Transform"
   ]
  },
  {
   "cell_type": "code",
   "execution_count": null,
   "metadata": {
    "collapsed": false
   },
   "outputs": [],
   "source": [
    "Pnm = process.stc(Nsft, fftData, quadrature_grid)"
   ]
  },
  {
   "cell_type": "markdown",
   "metadata": {},
   "source": [
    "## Make radial filters"
   ]
  },
  {
   "cell_type": "code",
   "execution_count": null,
   "metadata": {
    "collapsed": false
   },
   "outputs": [],
   "source": [
    "dn, _ = gen.mf(Nrf, kr, ac)"
   ]
  },
  {
   "cell_type": "markdown",
   "metadata": {},
   "source": [
    "## Generate data to visualize"
   ]
  },
  {
   "cell_type": "code",
   "execution_count": null,
   "metadata": {
    "collapsed": false
   },
   "outputs": [],
   "source": [
    "vizMtx = plot.makeFullMTX(Pnm, dn, kr, Nviz=Nviz)"
   ]
  },
  {
   "cell_type": "code",
   "execution_count": null,
   "metadata": {
    "collapsed": false,
    "scrolled": false
   },
   "outputs": [],
   "source": [
    "from ipywidgets import interact, interactive, IntSlider\n",
    "\n",
    "def viewShape(kr):\n",
    "    plot.showTrace(plot.genVisual(vizMtx[kr], style='sphere'))\n",
    "\n",
    "interact(viewShape, kr=IntSlider(min=0, max=(kr.size - 1), step=1, continuous_update=False))\n",
    "\n"
   ]
  }
 ],
 "metadata": {
  "kernelspec": {
   "display_name": "Python 3",
   "language": "python",
   "name": "python3"
  },
  "language_info": {
   "codemirror_mode": {
    "name": "ipython",
    "version": 3
   },
   "file_extension": ".py",
   "mimetype": "text/x-python",
   "name": "python",
   "nbconvert_exporter": "python",
   "pygments_lexer": "ipython3",
   "version": "3.5.2"
  }
 },
 "nbformat": 4,
 "nbformat_minor": 0
}
